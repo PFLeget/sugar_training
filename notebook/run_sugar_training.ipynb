{
 "cells": [
  {
   "cell_type": "code",
   "execution_count": null,
   "metadata": {},
   "outputs": [],
   "source": [
    "import sugar_training as st\n",
    "import pylab as plt\n",
    "%matplotlib inline\n",
    "\n",
    "data_input = '/Users/leget/sugar_training/sugar_training/data_input/'\n",
    "data_output = '/Users/leget/Desktop/post_doc/juin_2019/data_output/'\n",
    "path_output_gp = '/Users/leget/Desktop/post_doc/juin_2019/data_output/data_output_gp/'"
   ]
  },
  {
   "cell_type": "markdown",
   "metadata": {},
   "source": [
    "# 1) EMFA\n",
    "\n",
    "Do the EM-FA on spectral features space. sigma_clipping option mean that you are removing outlier with a 3 $\\sigma$ clipping based on mahalobis distance. "
   ]
  },
  {
   "cell_type": "code",
   "execution_count": null,
   "metadata": {},
   "outputs": [],
   "source": [
    "st.run_emfa_analysis(data_input, data_output, sigma_clipping=True)"
   ]
  },
  {
   "cell_type": "markdown",
   "metadata": {},
   "source": [
    "# 2) Estimating the extinction law.\n",
    "\n",
    "This step is not currently on GitHub because this is the slowest part of the SUGAR training for the moment (due to dispersion matrix estimation). This part was compute on ccin2p3 and only the main results were saved in order to train the final SUGAR model and are provide with the training. Normaly by following the methodology described in Section 3.3, Appendix C and Appendix D, this is possible to reproduce what was done. If somebody would like to reproduce and crosscheck with the code used in Léget et al. 2019, email me at pierrefrancois.leget@gmail.com and I'll provide the useful informations. "
   ]
  },
  {
   "cell_type": "markdown",
   "metadata": {},
   "source": [
    "# 3) Interpolation using gaussian processes"
   ]
  },
  {
   "cell_type": "code",
   "execution_count": null,
   "metadata": {},
   "outputs": [],
   "source": [
    "st.comp_mean(phase_min=-12, phase_max=48, path_input = data_input, draw=False)\n",
    "gp = st.gp_sed(path_input = data_input, average=True, double_average=False)\n",
    "gp.gaussian_process_regression()\n",
    "gp.write_output(path_output = path_output_gp)"
   ]
  },
  {
   "cell_type": "markdown",
   "metadata": {},
   "source": [
    "# 4) SUGAR training"
   ]
  },
  {
   "cell_type": "code",
   "execution_count": null,
   "metadata": {},
   "outputs": [],
   "source": [
    "ms = st.make_sugar(path_output=data_output, path_output_gp=path_output_gp, filtre=True, fit_Av=False, Rv=None)\n",
    "ms.launch_sed_fitting()\n",
    "ms.write_model_output()"
   ]
  },
  {
   "cell_type": "markdown",
   "metadata": {},
   "source": [
    "# 5) Create asci file of the SUGAR model "
   ]
  },
  {
   "cell_type": "code",
   "execution_count": null,
   "metadata": {},
   "outputs": [],
   "source": [
    "st.write_sugar(path_output=data_output, model ='sugar_model_2.58_Rv.pkl')"
   ]
  },
  {
   "cell_type": "markdown",
   "metadata": {},
   "source": [
    "# 6) Fit SUGAR parameter on spectra "
   ]
  },
  {
   "cell_type": "code",
   "execution_count": null,
   "metadata": {
    "scrolled": false
   },
   "outputs": [],
   "source": [
    "st.comp_sugar_param(path_input=data_input, path_output=data_output, model ='sugar_model_2.58_Rv.pkl')"
   ]
  }
 ],
 "metadata": {
  "kernelspec": {
   "display_name": "Python 2",
   "language": "python",
   "name": "python2"
  },
  "language_info": {
   "codemirror_mode": {
    "name": "ipython",
    "version": 2
   },
   "file_extension": ".py",
   "mimetype": "text/x-python",
   "name": "python",
   "nbconvert_exporter": "python",
   "pygments_lexer": "ipython2",
   "version": "2.7.15"
  }
 },
 "nbformat": 4,
 "nbformat_minor": 2
}
